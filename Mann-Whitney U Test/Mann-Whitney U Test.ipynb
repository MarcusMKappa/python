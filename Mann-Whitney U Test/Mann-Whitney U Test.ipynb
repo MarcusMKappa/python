{
 "cells": [
  {
   "cell_type": "code",
   "execution_count": 1,
   "metadata": {},
   "outputs": [],
   "source": [
    "import pandas as pd\n",
    "import numpy as np\n",
    "import matplotlib.pyplot as plt\n",
    "\n",
    "from sklearn.metrics import auc\n",
    "from scipy.stats import mannwhitneyu\n",
    "from scipy.stats import norm\n",
    "from pingouin import mwu\n",
    "\n",
    "import seaborn as sns\n"
   ]
  },
  {
   "cell_type": "markdown",
   "metadata": {},
   "source": [
    "# Data Import"
   ]
  },
  {
   "cell_type": "code",
   "execution_count": 2,
   "metadata": {},
   "outputs": [
    {
     "data": {
      "text/html": [
       "<div>\n",
       "<style scoped>\n",
       "    .dataframe tbody tr th:only-of-type {\n",
       "        vertical-align: middle;\n",
       "    }\n",
       "\n",
       "    .dataframe tbody tr th {\n",
       "        vertical-align: top;\n",
       "    }\n",
       "\n",
       "    .dataframe thead th {\n",
       "        text-align: right;\n",
       "    }\n",
       "</style>\n",
       "<table border=\"1\" class=\"dataframe\">\n",
       "  <thead>\n",
       "    <tr style=\"text-align: right;\">\n",
       "      <th></th>\n",
       "      <th>customer_id</th>\n",
       "      <th>reporting_date</th>\n",
       "      <th>default_moment</th>\n",
       "      <th>intodefault</th>\n",
       "      <th>mrating</th>\n",
       "      <th>PD</th>\n",
       "    </tr>\n",
       "  </thead>\n",
       "  <tbody>\n",
       "    <tr>\n",
       "      <th>0</th>\n",
       "      <td>1</td>\n",
       "      <td>31.01.2010</td>\n",
       "      <td>30.09.2010</td>\n",
       "      <td>1</td>\n",
       "      <td>21</td>\n",
       "      <td>0.20</td>\n",
       "    </tr>\n",
       "    <tr>\n",
       "      <th>1</th>\n",
       "      <td>1</td>\n",
       "      <td>28.02.2010</td>\n",
       "      <td>30.09.2010</td>\n",
       "      <td>1</td>\n",
       "      <td>22</td>\n",
       "      <td>0.25</td>\n",
       "    </tr>\n",
       "    <tr>\n",
       "      <th>2</th>\n",
       "      <td>1</td>\n",
       "      <td>31.03.2010</td>\n",
       "      <td>30.09.2010</td>\n",
       "      <td>1</td>\n",
       "      <td>22</td>\n",
       "      <td>0.25</td>\n",
       "    </tr>\n",
       "    <tr>\n",
       "      <th>3</th>\n",
       "      <td>1</td>\n",
       "      <td>30.04.2010</td>\n",
       "      <td>30.09.2010</td>\n",
       "      <td>1</td>\n",
       "      <td>22</td>\n",
       "      <td>0.25</td>\n",
       "    </tr>\n",
       "    <tr>\n",
       "      <th>4</th>\n",
       "      <td>1</td>\n",
       "      <td>31.05.2010</td>\n",
       "      <td>30.09.2010</td>\n",
       "      <td>1</td>\n",
       "      <td>22</td>\n",
       "      <td>0.25</td>\n",
       "    </tr>\n",
       "    <tr>\n",
       "      <th>...</th>\n",
       "      <td>...</td>\n",
       "      <td>...</td>\n",
       "      <td>...</td>\n",
       "      <td>...</td>\n",
       "      <td>...</td>\n",
       "      <td>...</td>\n",
       "    </tr>\n",
       "    <tr>\n",
       "      <th>41674</th>\n",
       "      <td>2501</td>\n",
       "      <td>31.07.2011</td>\n",
       "      <td>NaN</td>\n",
       "      <td>0</td>\n",
       "      <td>17</td>\n",
       "      <td>0.06</td>\n",
       "    </tr>\n",
       "    <tr>\n",
       "      <th>41675</th>\n",
       "      <td>2501</td>\n",
       "      <td>31.08.2011</td>\n",
       "      <td>NaN</td>\n",
       "      <td>0</td>\n",
       "      <td>17</td>\n",
       "      <td>0.06</td>\n",
       "    </tr>\n",
       "    <tr>\n",
       "      <th>41676</th>\n",
       "      <td>2501</td>\n",
       "      <td>30.09.2011</td>\n",
       "      <td>NaN</td>\n",
       "      <td>0</td>\n",
       "      <td>17</td>\n",
       "      <td>0.06</td>\n",
       "    </tr>\n",
       "    <tr>\n",
       "      <th>41677</th>\n",
       "      <td>2501</td>\n",
       "      <td>31.10.2011</td>\n",
       "      <td>NaN</td>\n",
       "      <td>0</td>\n",
       "      <td>17</td>\n",
       "      <td>0.06</td>\n",
       "    </tr>\n",
       "    <tr>\n",
       "      <th>41678</th>\n",
       "      <td>2501</td>\n",
       "      <td>30.11.2011</td>\n",
       "      <td>NaN</td>\n",
       "      <td>0</td>\n",
       "      <td>17</td>\n",
       "      <td>0.06</td>\n",
       "    </tr>\n",
       "  </tbody>\n",
       "</table>\n",
       "<p>41679 rows × 6 columns</p>\n",
       "</div>"
      ],
      "text/plain": [
       "       customer_id reporting_date default_moment  intodefault  mrating    PD\n",
       "0                1     31.01.2010     30.09.2010            1       21  0.20\n",
       "1                1     28.02.2010     30.09.2010            1       22  0.25\n",
       "2                1     31.03.2010     30.09.2010            1       22  0.25\n",
       "3                1     30.04.2010     30.09.2010            1       22  0.25\n",
       "4                1     31.05.2010     30.09.2010            1       22  0.25\n",
       "...            ...            ...            ...          ...      ...   ...\n",
       "41674         2501     31.07.2011            NaN            0       17  0.06\n",
       "41675         2501     31.08.2011            NaN            0       17  0.06\n",
       "41676         2501     30.09.2011            NaN            0       17  0.06\n",
       "41677         2501     31.10.2011            NaN            0       17  0.06\n",
       "41678         2501     30.11.2011            NaN            0       17  0.06\n",
       "\n",
       "[41679 rows x 6 columns]"
      ]
     },
     "execution_count": 2,
     "metadata": {},
     "output_type": "execute_result"
    }
   ],
   "source": [
    "# load the data\n",
    "df = pd.read_csv('sample_data CRM.csv', delimiter = ';')\n",
    "\n",
    "df\n"
   ]
  },
  {
   "cell_type": "markdown",
   "metadata": {},
   "source": [
    "# PD vs Rating"
   ]
  },
  {
   "cell_type": "code",
   "execution_count": 3,
   "metadata": {},
   "outputs": [
    {
     "data": {
      "text/plain": [
       "<AxesSubplot:xlabel='mrating', ylabel='PD'>"
      ]
     },
     "execution_count": 3,
     "metadata": {},
     "output_type": "execute_result"
    },
    {
     "data": {
      "image/png": "[encoded data removed]",
      "text/plain": [
       "<Figure size 432x288 with 1 Axes>"
      ]
     },
     "metadata": {},
     "output_type": "display_data"
    }
   ],
   "source": [
    "sns.set()\n",
    "sns.lineplot(data=df, x=\"mrating\", y=\"PD\")\n"
   ]
  },
  {
   "cell_type": "markdown",
   "metadata": {},
   "source": [
    "# Portfolio selection\n",
    "I am making the assumption that I am doing a year-end analysis. If during the year (at the end of the last report) there is a customer default then such an event is treated as a default for the year. In the end, only the 2011 portfolio is analyzed - I don't have more information to study the case in detail."
   ]
  },
  {
   "cell_type": "code",
   "execution_count": null,
   "metadata": {},
   "outputs": [],
   "source": [
    "# Select portfolio analyzed in 2011\n",
    "df['reporting_date'] = pd.to_datetime(df['reporting_date'])\n",
    "df['year'] = pd.DatetimeIndex(df['reporting_date']).year\n",
    "df = df[df['year'] == 2011]\n",
    "\n",
    "\n",
    "# Order the portfolio in ascending order by date and group by customer id and select the last element\n",
    "df = df.sort_values('reporting_date').groupby('customer_id').tail(1)\n"
   ]
  },
  {
   "cell_type": "markdown",
   "metadata": {},
   "source": [
    "# ROC"
   ]
  },
  {
   "cell_type": "code",
   "execution_count": 5,
   "metadata": {},
   "outputs": [
    {
     "data": {
      "text/plain": [
       "<AxesSubplot:xlabel='portfel', ylabel='default'>"
      ]
     },
     "execution_count": 5,
     "metadata": {},
     "output_type": "execute_result"
    },
    {
     "data": {
      "image/png": "[encoded data removed]",
      "text/plain": [
       "<Figure size 432x288 with 1 Axes>"
      ]
     },
     "metadata": {},
     "output_type": "display_data"
    }
   ],
   "source": [
    "# Ordering the portfolio from the worst rating to the best\n",
    "df.sort_values('PD', ascending=False, inplace = True)\n",
    "\n",
    "\n",
    "# Adding the id - numbering the wallet \n",
    "ids = []\n",
    "for i in range(0,len(df['mrating'])):\n",
    "    ids.append(i+1)\n",
    "df['id'] = ids\n",
    "\n",
    "\n",
    "# Determining the proportion of the portfolio\n",
    "df['portfel'] = (df['id'] / len(df['id']))\n",
    "\n",
    "\n",
    "# Determining the proportion of defaults\n",
    "df['default'] = (df['intodefault'].cumsum() / df['intodefault'].sum())\n",
    "\n",
    "\n",
    "# Determining the ROC curve\n",
    "sns.lineplot(data=df, x=\"portfel\", y=\"default\")\n"
   ]
  },
  {
   "cell_type": "markdown",
   "metadata": {},
   "source": [
    "# AUC"
   ]
  },
  {
   "cell_type": "code",
   "execution_count": 6,
   "metadata": {},
   "outputs": [
    {
     "name": "stdout",
     "output_type": "stream",
     "text": [
      "computed AUC using sklearn.metrics.auc: 0.7686002337814144\n",
      "computed AUC using np.trapz: 0.7686002337814144\n"
     ]
    }
   ],
   "source": [
    "# AUC determined by ROC curve\n",
    "# Underestimation of AUC by Mann-Whitney U test and Knime analysis system\n",
    "\n",
    "xx = df['portfel']\n",
    "yy = df['default']\n",
    "\n",
    "AUC = auc(xx,yy)\n",
    "\n",
    "print('computed AUC using sklearn.metrics.auc: {}'.format(auc(xx,yy)))\n",
    "print('computed AUC using np.trapz: {}'.format(np.trapz(yy, xx)))\n"
   ]
  },
  {
   "cell_type": "markdown",
   "metadata": {},
   "source": [
    "## Mann-Whitney U Test"
   ]
  },
  {
   "cell_type": "code",
   "execution_count": 7,
   "metadata": {},
   "outputs": [],
   "source": [
    "# Ordering the portfolio from the worst rating to the best\n",
    "df.sort_values('PD', inplace = True)\n"
   ]
  },
  {
   "cell_type": "code",
   "execution_count": 8,
   "metadata": {},
   "outputs": [],
   "source": [
    "# Split into two sets of data: default and non-default\n",
    "x = df[df['intodefault'] == 1]\n",
    "x = x['mrating']\n",
    "\n",
    "y = df[df['intodefault'] == 0]\n",
    "y = y['mrating']\n"
   ]
  },
  {
   "cell_type": "code",
   "execution_count": 9,
   "metadata": {},
   "outputs": [
    {
     "name": "stdout",
     "output_type": "stream",
     "text": [
      "Mann-Whitney U Test (1) - U1:  102014.0\n",
      "Mann-Whitney U Test (1) - U2:  28466.0\n",
      "Mann-Whitney U Test (1) - p-val:  1.2525989463714974e-17\n",
      "\n",
      "\n",
      "Mann-Whitney U Test (2): \n",
      "        U-val alternative         p-val       RBC      CLES\n",
      "MWU  102014.0   two-sided  1.252599e-17 -0.563673  0.781836\n"
     ]
    }
   ],
   "source": [
    "# Mann-Whitney U Test (1)\n",
    "U1, p = mannwhitneyu(x, y)\n",
    "print(\"Mann-Whitney U Test (1) - U1: \", U1)\n",
    "\n",
    "\n",
    "# Mann-Whitney U Test (1)\n",
    "nx, ny = len(x), len(y)\n",
    "U2 = nx*ny - U1\n",
    "print(\"Mann-Whitney U Test (1) - U2: \", U2)\n",
    "print(\"Mann-Whitney U Test (1) - p-val: \", p)\n",
    "print(\"\")\n",
    "print(\"\")\n",
    "\n",
    "# Mann-Whitney U Test (2)\n",
    "results2 = mwu(x, y, alternative='two-sided')\n",
    "print(\"Mann-Whitney U Test (2): \")\n",
    "print(results2)\n",
    "\n"
   ]
  },
  {
   "cell_type": "code",
   "execution_count": 10,
   "metadata": {},
   "outputs": [
    {
     "name": "stdout",
     "output_type": "stream",
     "text": [
      "AUC based on the Mann-Whitney U Test:  0.7818362967504598\n",
      "Gini based on AUC:  0.5636725935009197\n",
      "Standard deviation AUC:  0.03089912460171887\n"
     ]
    }
   ],
   "source": [
    "# AUC\n",
    "AUC = U1/(nx*ny)\n",
    "Gini = 2*AUC - 1\n",
    "print(\"AUC based on the Mann-Whitney U Test: \", AUC)\n",
    "print(\"Gini based on AUC: \", Gini)\n",
    "\n",
    "# Confidence Interval for AUC\n",
    "Q1 = AUC/(2-AUC)\n",
    "Q2 = 2*(AUC**2)/(1+AUC)\n",
    "\n",
    "SE_AUC = ((AUC*(1-AUC)+(nx-1)*(Q1-AUC**2)+(ny-1)*(Q2-AUC**2))/(nx*ny))**0.5\n",
    "print(\"Standard deviation AUC: \", SE_AUC)\n"
   ]
  },
  {
   "cell_type": "markdown",
   "metadata": {},
   "source": [
    "# S Statistic"
   ]
  },
  {
   "cell_type": "code",
   "execution_count": 11,
   "metadata": {},
   "outputs": [
    {
     "name": "stdout",
     "output_type": "stream",
     "text": [
      "S statistic:  -1.030330055003851\n",
      "Test S p-val:  0.1514275475039688\n"
     ]
    }
   ],
   "source": [
    "# Calculate test statistic S \n",
    "AUC_Validation = 0.75\n",
    "S = (AUC_Validation - AUC)/SE_AUC\n",
    "\n",
    "print(\"S statistic: \", S)\n",
    "\n",
    "# One-sided test is specified by: p-value use CDF\n",
    "p = norm.cdf(S)\n",
    "\n",
    "print(\"Test S p-val: \", p)"
   ]
  }
 ],
 "metadata": {
  "interpreter": {
   "hash": "f08154012ddadd8e950e6e9e035c7a7b32c136e7647e9b7c77e02eb723a8bedb"
  },
  "kernelspec": {
   "display_name": "Python 3.9.12 ('base': conda)",
   "language": "python",
   "name": "python3"
  },
  "language_info": {
   "codemirror_mode": {
    "name": "ipython",
    "version": 3
   },
   "file_extension": ".py",
   "mimetype": "text/x-python",
   "name": "python",
   "nbconvert_exporter": "python",
   "pygments_lexer": "ipython3",
   "version": "3.9.12"
  }
 },
 "nbformat": 4,
 "nbformat_minor": 4
}
